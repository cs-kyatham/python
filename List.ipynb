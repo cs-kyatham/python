{
  "nbformat": 4,
  "nbformat_minor": 0,
  "metadata": {
    "colab": {
      "name": "List",
      "provenance": [],
      "authorship_tag": "ABX9TyPTHnsoA/hOnjBTsaslAIPZ",
      "include_colab_link": true
    },
    "kernelspec": {
      "name": "python3",
      "display_name": "Python 3"
    }
  },
  "cells": [
    {
      "cell_type": "markdown",
      "metadata": {
        "id": "view-in-github",
        "colab_type": "text"
      },
      "source": [
        "<a href=\"https://colab.research.google.com/github/cs-kyatham/python/blob/master/List.ipynb\" target=\"_parent\"><img src=\"https://colab.research.google.com/assets/colab-badge.svg\" alt=\"Open In Colab\"/></a>"
      ]
    },
    {
      "cell_type": "code",
      "metadata": {
        "id": "i65UrI4AU9NF"
      },
      "source": [
        "emp_list= []"
      ],
      "execution_count": 3,
      "outputs": []
    },
    {
      "cell_type": "code",
      "metadata": {
        "id": "KDXoEt5nVMQF"
      },
      "source": [
        "list_str= ['first','second']"
      ],
      "execution_count": 4,
      "outputs": []
    },
    {
      "cell_type": "code",
      "metadata": {
        "id": "usnYNoDUVSWZ",
        "colab": {
          "base_uri": "https://localhost:8080/"
        },
        "outputId": "a2108c63-a76f-40a2-fc99-e1d8603b3d17"
      },
      "source": [
        "type(list_str)"
      ],
      "execution_count": 5,
      "outputs": [
        {
          "output_type": "execute_result",
          "data": {
            "text/plain": [
              "list"
            ]
          },
          "metadata": {
            "tags": []
          },
          "execution_count": 5
        }
      ]
    },
    {
      "cell_type": "code",
      "metadata": {
        "colab": {
          "base_uri": "https://localhost:8080/"
        },
        "id": "kJzYiwhmboID",
        "outputId": "90d447b9-f4e3-40b9-bd93-d0e0f6fbf07b"
      },
      "source": [
        "list_str"
      ],
      "execution_count": 6,
      "outputs": [
        {
          "output_type": "execute_result",
          "data": {
            "text/plain": [
              "['first', 'second']"
            ]
          },
          "metadata": {
            "tags": []
          },
          "execution_count": 6
        }
      ]
    },
    {
      "cell_type": "code",
      "metadata": {
        "id": "QQIA4sdsbsey"
      },
      "source": [
        "mixed_list= ['Hi',1,342.34]"
      ],
      "execution_count": 7,
      "outputs": []
    },
    {
      "cell_type": "code",
      "metadata": {
        "colab": {
          "base_uri": "https://localhost:8080/"
        },
        "id": "4LUj15Rqb3Ux",
        "outputId": "69b39363-2d27-4569-887c-62c39e1ed77b"
      },
      "source": [
        "print(mixed_list[0])"
      ],
      "execution_count": 8,
      "outputs": [
        {
          "output_type": "stream",
          "text": [
            "Hi\n"
          ],
          "name": "stdout"
        }
      ]
    },
    {
      "cell_type": "code",
      "metadata": {
        "colab": {
          "base_uri": "https://localhost:8080/"
        },
        "id": "AQ4vdbFYb7ft",
        "outputId": "218c8602-1f13-4520-fc86-1a3b32938218"
      },
      "source": [
        "len(mixed_list)"
      ],
      "execution_count": 9,
      "outputs": [
        {
          "output_type": "execute_result",
          "data": {
            "text/plain": [
              "3"
            ]
          },
          "metadata": {
            "tags": []
          },
          "execution_count": 9
        }
      ]
    },
    {
      "cell_type": "code",
      "metadata": {
        "id": "8098IZSkcFNg"
      },
      "source": [
        "cars=['maruti alto','tata indica','hyundai i10']"
      ],
      "execution_count": 10,
      "outputs": []
    },
    {
      "cell_type": "code",
      "metadata": {
        "id": "rsRejJqJc4o_"
      },
      "source": [
        "cars.append('honda city')"
      ],
      "execution_count": 11,
      "outputs": []
    },
    {
      "cell_type": "code",
      "metadata": {
        "colab": {
          "base_uri": "https://localhost:8080/"
        },
        "id": "wddmXxMwc87v",
        "outputId": "fde3061b-cc79-4adf-cd6d-74c21ee45336"
      },
      "source": [
        "cars"
      ],
      "execution_count": 12,
      "outputs": [
        {
          "output_type": "execute_result",
          "data": {
            "text/plain": [
              "['maruti alto', 'tata indica', 'hyundai i10', 'honda city']"
            ]
          },
          "metadata": {
            "tags": []
          },
          "execution_count": 12
        }
      ]
    },
    {
      "cell_type": "code",
      "metadata": {
        "id": "ul6cYFqFc9uP"
      },
      "source": [
        "cars.insert(3,'vw polo')"
      ],
      "execution_count": 13,
      "outputs": []
    },
    {
      "cell_type": "code",
      "metadata": {
        "colab": {
          "base_uri": "https://localhost:8080/"
        },
        "id": "D4yolffYdFVn",
        "outputId": "fe141974-3795-43af-fad2-ecccfa8dd8ba"
      },
      "source": [
        "cars"
      ],
      "execution_count": 14,
      "outputs": [
        {
          "output_type": "execute_result",
          "data": {
            "text/plain": [
              "['maruti alto', 'tata indica', 'hyundai i10', 'vw polo', 'honda city']"
            ]
          },
          "metadata": {
            "tags": []
          },
          "execution_count": 14
        }
      ]
    },
    {
      "cell_type": "code",
      "metadata": {
        "colab": {
          "base_uri": "https://localhost:8080/"
        },
        "id": "xMrdYMxSdGSg",
        "outputId": "4b94d653-4c40-48df-9247-3d49e44e49b5"
      },
      "source": [
        "cars.extend(['kai sonet','tata altroz'])\n",
        "cars"
      ],
      "execution_count": 16,
      "outputs": [
        {
          "output_type": "execute_result",
          "data": {
            "text/plain": [
              "['maruti alto',\n",
              " 'tata indica',\n",
              " 'hyundai i10',\n",
              " 'vw polo',\n",
              " 'honda city',\n",
              " 'kai sonet',\n",
              " 'tata altroz',\n",
              " 'kai sonet',\n",
              " 'tata altroz']"
            ]
          },
          "metadata": {
            "tags": []
          },
          "execution_count": 16
        }
      ]
    },
    {
      "cell_type": "code",
      "metadata": {
        "colab": {
          "base_uri": "https://localhost:8080/"
        },
        "id": "URi_z8Z0dXPi",
        "outputId": "a8506608-6b05-4b70-b826-5e28f7765c00"
      },
      "source": [
        "cars.remove('tata indica')\n",
        "cars"
      ],
      "execution_count": 17,
      "outputs": [
        {
          "output_type": "execute_result",
          "data": {
            "text/plain": [
              "['maruti alto',\n",
              " 'hyundai i10',\n",
              " 'vw polo',\n",
              " 'honda city',\n",
              " 'kai sonet',\n",
              " 'tata altroz',\n",
              " 'kai sonet',\n",
              " 'tata altroz']"
            ]
          },
          "metadata": {
            "tags": []
          },
          "execution_count": 17
        }
      ]
    },
    {
      "cell_type": "code",
      "metadata": {
        "colab": {
          "base_uri": "https://localhost:8080/"
        },
        "id": "VixoB4pXd4RP",
        "outputId": "6d0a77ef-0e94-4964-d202-677496f0218f"
      },
      "source": [
        "cars+=['Chevorlet Beat','hyundai i20']\n",
        "cars"
      ],
      "execution_count": 18,
      "outputs": [
        {
          "output_type": "execute_result",
          "data": {
            "text/plain": [
              "['maruti alto',\n",
              " 'hyundai i10',\n",
              " 'vw polo',\n",
              " 'honda city',\n",
              " 'kai sonet',\n",
              " 'tata altroz',\n",
              " 'kai sonet',\n",
              " 'tata altroz',\n",
              " 'Chevorlet Beat',\n",
              " 'hyundai i20']"
            ]
          },
          "metadata": {
            "tags": []
          },
          "execution_count": 18
        }
      ]
    },
    {
      "cell_type": "code",
      "metadata": {
        "colab": {
          "base_uri": "https://localhost:8080/"
        },
        "id": "LdP8BTrFeTut",
        "outputId": "fcae5001-8894-4ba1-e91a-203381f944fc"
      },
      "source": [
        "set(cars)"
      ],
      "execution_count": 19,
      "outputs": [
        {
          "output_type": "execute_result",
          "data": {
            "text/plain": [
              "{'Chevorlet Beat',\n",
              " 'honda city',\n",
              " 'hyundai i10',\n",
              " 'hyundai i20',\n",
              " 'kai sonet',\n",
              " 'maruti alto',\n",
              " 'tata altroz',\n",
              " 'vw polo'}"
            ]
          },
          "metadata": {
            "tags": []
          },
          "execution_count": 19
        }
      ]
    },
    {
      "cell_type": "code",
      "metadata": {
        "id": "lycUmXstfX2N"
      },
      "source": [
        "lst=[3,5,1,5,7,8,2]"
      ],
      "execution_count": 20,
      "outputs": []
    },
    {
      "cell_type": "code",
      "metadata": {
        "colab": {
          "base_uri": "https://localhost:8080/"
        },
        "id": "DqSrozMGgvqY",
        "outputId": "ea56d1a9-3d49-4e56-8a1a-16a4da3bcbbc"
      },
      "source": [
        "all(lst)"
      ],
      "execution_count": 21,
      "outputs": [
        {
          "output_type": "execute_result",
          "data": {
            "text/plain": [
              "True"
            ]
          },
          "metadata": {
            "tags": []
          },
          "execution_count": 21
        }
      ]
    },
    {
      "cell_type": "code",
      "metadata": {
        "colab": {
          "base_uri": "https://localhost:8080/"
        },
        "id": "rBgW1E23gzX7",
        "outputId": "0849b660-b369-4272-fa43-613a6ecbed7a"
      },
      "source": [
        "all([0])"
      ],
      "execution_count": 22,
      "outputs": [
        {
          "output_type": "execute_result",
          "data": {
            "text/plain": [
              "False"
            ]
          },
          "metadata": {
            "tags": []
          },
          "execution_count": 22
        }
      ]
    },
    {
      "cell_type": "code",
      "metadata": {
        "colab": {
          "base_uri": "https://localhost:8080/"
        },
        "id": "j9O1VwJng1br",
        "outputId": "203ef492-a921-48f3-8a00-287fe232ad3c"
      },
      "source": [
        "em_st=[]\n",
        "all(em_st)\n"
      ],
      "execution_count": 27,
      "outputs": [
        {
          "output_type": "execute_result",
          "data": {
            "text/plain": [
              "True"
            ]
          },
          "metadata": {
            "tags": []
          },
          "execution_count": 27
        }
      ]
    },
    {
      "cell_type": "code",
      "metadata": {
        "colab": {
          "base_uri": "https://localhost:8080/"
        },
        "id": "yw2DqAx1hAFn",
        "outputId": "5d2d8298-ec37-4724-9c96-c33eed4aa1bd"
      },
      "source": [
        "any(em_st)"
      ],
      "execution_count": 26,
      "outputs": [
        {
          "output_type": "execute_result",
          "data": {
            "text/plain": [
              "False"
            ]
          },
          "metadata": {
            "tags": []
          },
          "execution_count": 26
        }
      ]
    },
    {
      "cell_type": "code",
      "metadata": {
        "id": "rVnzIZsohPbW"
      },
      "source": [
        ""
      ],
      "execution_count": null,
      "outputs": []
    },
    {
      "cell_type": "markdown",
      "metadata": {
        "id": "K19uxUWmhdQ-"
      },
      "source": [
        "Slicing operations"
      ]
    },
    {
      "cell_type": "code",
      "metadata": {
        "colab": {
          "base_uri": "https://localhost:8080/"
        },
        "id": "VPNwQ-lGhfSL",
        "outputId": "68fce5e8-b1e0-4d35-ef05-0d54db4476d4"
      },
      "source": [
        "cars"
      ],
      "execution_count": 28,
      "outputs": [
        {
          "output_type": "execute_result",
          "data": {
            "text/plain": [
              "['maruti alto',\n",
              " 'hyundai i10',\n",
              " 'vw polo',\n",
              " 'honda city',\n",
              " 'kai sonet',\n",
              " 'tata altroz',\n",
              " 'kai sonet',\n",
              " 'tata altroz',\n",
              " 'Chevorlet Beat',\n",
              " 'hyundai i20']"
            ]
          },
          "metadata": {
            "tags": []
          },
          "execution_count": 28
        }
      ]
    },
    {
      "cell_type": "code",
      "metadata": {
        "colab": {
          "base_uri": "https://localhost:8080/"
        },
        "id": "EWE3s33thmB6",
        "outputId": "c02e01b4-981e-4257-b99c-6142942c8c59"
      },
      "source": [
        "cars[2:5]"
      ],
      "execution_count": 29,
      "outputs": [
        {
          "output_type": "execute_result",
          "data": {
            "text/plain": [
              "['vw polo', 'honda city', 'kai sonet']"
            ]
          },
          "metadata": {
            "tags": []
          },
          "execution_count": 29
        }
      ]
    },
    {
      "cell_type": "code",
      "metadata": {
        "colab": {
          "base_uri": "https://localhost:8080/"
        },
        "id": "s5BavYQBhpqe",
        "outputId": "9105ae0a-b921-4ca0-c343-8f2096a7a580"
      },
      "source": [
        "cars[0:]"
      ],
      "execution_count": 30,
      "outputs": [
        {
          "output_type": "execute_result",
          "data": {
            "text/plain": [
              "['maruti alto',\n",
              " 'hyundai i10',\n",
              " 'vw polo',\n",
              " 'honda city',\n",
              " 'kai sonet',\n",
              " 'tata altroz',\n",
              " 'kai sonet',\n",
              " 'tata altroz',\n",
              " 'Chevorlet Beat',\n",
              " 'hyundai i20']"
            ]
          },
          "metadata": {
            "tags": []
          },
          "execution_count": 30
        }
      ]
    },
    {
      "cell_type": "code",
      "metadata": {
        "colab": {
          "base_uri": "https://localhost:8080/"
        },
        "id": "gc2HSGKZiDG5",
        "outputId": "4d965d76-fdd5-46ba-d91c-e602871beea6"
      },
      "source": [
        "cars[:5]"
      ],
      "execution_count": 31,
      "outputs": [
        {
          "output_type": "execute_result",
          "data": {
            "text/plain": [
              "['maruti alto', 'hyundai i10', 'vw polo', 'honda city', 'kai sonet']"
            ]
          },
          "metadata": {
            "tags": []
          },
          "execution_count": 31
        }
      ]
    },
    {
      "cell_type": "code",
      "metadata": {
        "colab": {
          "base_uri": "https://localhost:8080/"
        },
        "id": "WTRDCPA-iKdV",
        "outputId": "3951cffc-22e7-4064-cad3-a1289eb5902e"
      },
      "source": [
        "cars[:]"
      ],
      "execution_count": 32,
      "outputs": [
        {
          "output_type": "execute_result",
          "data": {
            "text/plain": [
              "['maruti alto',\n",
              " 'hyundai i10',\n",
              " 'vw polo',\n",
              " 'honda city',\n",
              " 'kai sonet',\n",
              " 'tata altroz',\n",
              " 'kai sonet',\n",
              " 'tata altroz',\n",
              " 'Chevorlet Beat',\n",
              " 'hyundai i20']"
            ]
          },
          "metadata": {
            "tags": []
          },
          "execution_count": 32
        }
      ]
    },
    {
      "cell_type": "code",
      "metadata": {
        "colab": {
          "base_uri": "https://localhost:8080/"
        },
        "id": "UZ0YQZsMiM_y",
        "outputId": "2c159c2a-fda6-40dd-aa41-0d232790dfc4"
      },
      "source": [
        "cars[:-3]"
      ],
      "execution_count": 33,
      "outputs": [
        {
          "output_type": "execute_result",
          "data": {
            "text/plain": [
              "['maruti alto',\n",
              " 'hyundai i10',\n",
              " 'vw polo',\n",
              " 'honda city',\n",
              " 'kai sonet',\n",
              " 'tata altroz',\n",
              " 'kai sonet']"
            ]
          },
          "metadata": {
            "tags": []
          },
          "execution_count": 33
        }
      ]
    },
    {
      "cell_type": "code",
      "metadata": {
        "colab": {
          "base_uri": "https://localhost:8080/"
        },
        "id": "3MGa0vQ8iWOj",
        "outputId": "25b319f6-3f94-4efc-e2e9-8ce73b25635b"
      },
      "source": [
        "len(cars)"
      ],
      "execution_count": 34,
      "outputs": [
        {
          "output_type": "execute_result",
          "data": {
            "text/plain": [
              "10"
            ]
          },
          "metadata": {
            "tags": []
          },
          "execution_count": 34
        }
      ]
    },
    {
      "cell_type": "code",
      "metadata": {
        "colab": {
          "base_uri": "https://localhost:8080/"
        },
        "id": "Wel4xygniZjk",
        "outputId": "0988670c-7a89-4fe7-b73d-27c749a6c2eb"
      },
      "source": [
        "cars[-4:-1]"
      ],
      "execution_count": 36,
      "outputs": [
        {
          "output_type": "execute_result",
          "data": {
            "text/plain": [
              "['kai sonet', 'tata altroz', 'Chevorlet Beat']"
            ]
          },
          "metadata": {
            "tags": []
          },
          "execution_count": 36
        }
      ]
    },
    {
      "cell_type": "code",
      "metadata": {
        "colab": {
          "base_uri": "https://localhost:8080/"
        },
        "id": "L81fo_CtpRG_",
        "outputId": "4b609e11-6f87-4ad8-942d-ef6c1c1c30b6"
      },
      "source": [
        "cars"
      ],
      "execution_count": 37,
      "outputs": [
        {
          "output_type": "execute_result",
          "data": {
            "text/plain": [
              "['maruti alto',\n",
              " 'hyundai i10',\n",
              " 'vw polo',\n",
              " 'honda city',\n",
              " 'kai sonet',\n",
              " 'tata altroz',\n",
              " 'kai sonet',\n",
              " 'tata altroz',\n",
              " 'Chevorlet Beat',\n",
              " 'hyundai i20']"
            ]
          },
          "metadata": {
            "tags": []
          },
          "execution_count": 37
        }
      ]
    },
    {
      "cell_type": "code",
      "metadata": {
        "colab": {
          "base_uri": "https://localhost:8080/"
        },
        "id": "5h_tYseCpgWT",
        "outputId": "f23de283-0b5b-4a21-e83a-6c4c45e11d35"
      },
      "source": [
        "cars[::2]"
      ],
      "execution_count": 38,
      "outputs": [
        {
          "output_type": "execute_result",
          "data": {
            "text/plain": [
              "['maruti alto', 'vw polo', 'kai sonet', 'kai sonet', 'Chevorlet Beat']"
            ]
          },
          "metadata": {
            "tags": []
          },
          "execution_count": 38
        }
      ]
    },
    {
      "cell_type": "code",
      "metadata": {
        "colab": {
          "base_uri": "https://localhost:8080/"
        },
        "id": "jdh1TXj4ptZg",
        "outputId": "52b23508-04eb-45f9-e0e3-8ad66d48b6f8"
      },
      "source": [
        "cars[0:7:3]"
      ],
      "execution_count": 41,
      "outputs": [
        {
          "output_type": "execute_result",
          "data": {
            "text/plain": [
              "['maruti alto', 'honda city', 'kai sonet']"
            ]
          },
          "metadata": {
            "tags": []
          },
          "execution_count": 41
        }
      ]
    },
    {
      "cell_type": "code",
      "metadata": {
        "colab": {
          "base_uri": "https://localhost:8080/"
        },
        "id": "G4EQ3XuQpw3g",
        "outputId": "4711ea14-904b-4fc5-d2cb-eabed5890045"
      },
      "source": [
        "cars[4:1:-1]"
      ],
      "execution_count": 42,
      "outputs": [
        {
          "output_type": "execute_result",
          "data": {
            "text/plain": [
              "['kai sonet', 'honda city', 'vw polo']"
            ]
          },
          "metadata": {
            "tags": []
          },
          "execution_count": 42
        }
      ]
    },
    {
      "cell_type": "code",
      "metadata": {
        "colab": {
          "base_uri": "https://localhost:8080/"
        },
        "id": "C-y2zq2Vqi1a",
        "outputId": "1c8d2e59-3264-4eae-feef-eabe1a987000"
      },
      "source": [
        "cars[-2:4:-1\n",
        "    ]"
      ],
      "execution_count": 43,
      "outputs": [
        {
          "output_type": "execute_result",
          "data": {
            "text/plain": [
              "['Chevorlet Beat', 'tata altroz', 'kai sonet', 'tata altroz']"
            ]
          },
          "metadata": {
            "tags": []
          },
          "execution_count": 43
        }
      ]
    },
    {
      "cell_type": "code",
      "metadata": {
        "id": "ats3gvtarOrn"
      },
      "source": [
        ""
      ],
      "execution_count": null,
      "outputs": []
    }
  ]
}