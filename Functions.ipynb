{
  "nbformat": 4,
  "nbformat_minor": 0,
  "metadata": {
    "colab": {
      "name": "Functions.ipynb",
      "provenance": [],
      "authorship_tag": "ABX9TyOGDQD4ub/5ae2heafsRUqQ",
      "include_colab_link": true
    },
    "kernelspec": {
      "name": "python3",
      "display_name": "Python 3"
    }
  },
  "cells": [
    {
      "cell_type": "markdown",
      "metadata": {
        "id": "view-in-github",
        "colab_type": "text"
      },
      "source": [
        "<a href=\"https://colab.research.google.com/github/cs-kyatham/python/blob/master/Functions.ipynb\" target=\"_parent\"><img src=\"https://colab.research.google.com/assets/colab-badge.svg\" alt=\"Open In Colab\"/></a>"
      ]
    },
    {
      "cell_type": "code",
      "metadata": {
        "colab": {
          "base_uri": "https://localhost:8080/"
        },
        "id": "LCg5af8TGFl1",
        "outputId": "c80710b5-08aa-4bc8-a96c-3bffafeb461b"
      },
      "source": [
        "li=[3,4,2,1,75]\n",
        "a=sorted(li,)\n",
        "print(a)"
      ],
      "execution_count": null,
      "outputs": [
        {
          "output_type": "stream",
          "text": [
            "[1, 2, 3, 4, 75]\n"
          ],
          "name": "stdout"
        }
      ]
    },
    {
      "cell_type": "code",
      "metadata": {
        "id": "zaLN9gPGMEhR"
      },
      "source": [
        "li.reverse()"
      ],
      "execution_count": null,
      "outputs": []
    },
    {
      "cell_type": "code",
      "metadata": {
        "colab": {
          "base_uri": "https://localhost:8080/"
        },
        "id": "yoKtMjOrMZ1Q",
        "outputId": "92aa0f29-50e9-4805-95cf-8e152a21a525"
      },
      "source": [
        "print(li)"
      ],
      "execution_count": null,
      "outputs": [
        {
          "output_type": "stream",
          "text": [
            "[75, 1, 2, 4, 3]\n"
          ],
          "name": "stdout"
        }
      ]
    },
    {
      "cell_type": "code",
      "metadata": {
        "id": "n_YYWMk7Mb_G"
      },
      "source": [
        "def print_fn(*args):\n",
        "  print(args)\n",
        "\n",
        "  "
      ],
      "execution_count": null,
      "outputs": []
    },
    {
      "cell_type": "code",
      "metadata": {
        "colab": {
          "base_uri": "https://localhost:8080/"
        },
        "id": "cX6f4IExNixl",
        "outputId": "c059953a-0a84-4c87-f87b-be24539825f9"
      },
      "source": [
        "print_fn()"
      ],
      "execution_count": null,
      "outputs": [
        {
          "output_type": "stream",
          "text": [
            "()\n"
          ],
          "name": "stdout"
        }
      ]
    },
    {
      "cell_type": "code",
      "metadata": {
        "colab": {
          "base_uri": "https://localhost:8080/"
        },
        "id": "EQVpT63-NlaL",
        "outputId": "5edde36b-258f-4fd2-b693-4087d4833fd3"
      },
      "source": [
        "print_fn(\"324\",2432)"
      ],
      "execution_count": null,
      "outputs": [
        {
          "output_type": "stream",
          "text": [
            "('324', 2432)\n"
          ],
          "name": "stdout"
        }
      ]
    },
    {
      "cell_type": "code",
      "metadata": {
        "colab": {
          "base_uri": "https://localhost:8080/"
        },
        "id": "JIomkI6xNtrc",
        "outputId": "b287c71e-46a6-442a-a8f4-fbdd083351dd"
      },
      "source": [
        "print(\"324\",2432)"
      ],
      "execution_count": null,
      "outputs": [
        {
          "output_type": "stream",
          "text": [
            "324 2432\n"
          ],
          "name": "stdout"
        }
      ]
    },
    {
      "cell_type": "code",
      "metadata": {
        "colab": {
          "base_uri": "https://localhost:8080/"
        },
        "id": "C2XvhOhFNyY4",
        "outputId": "a861d65c-37c1-47e5-9d3f-36370dc86ee1"
      },
      "source": [
        "print_fn(li)"
      ],
      "execution_count": null,
      "outputs": [
        {
          "output_type": "stream",
          "text": [
            "([75, 1, 2, 4, 3],)\n"
          ],
          "name": "stdout"
        }
      ]
    },
    {
      "cell_type": "code",
      "metadata": {
        "colab": {
          "base_uri": "https://localhost:8080/"
        },
        "id": "pv2_RjoYOGKE",
        "outputId": "4d64bf40-050d-457e-fd5d-5f38be1c055a"
      },
      "source": [
        "print_fn(*li)"
      ],
      "execution_count": null,
      "outputs": [
        {
          "output_type": "stream",
          "text": [
            "(75, 1, 2, 4, 3)\n"
          ],
          "name": "stdout"
        }
      ]
    },
    {
      "cell_type": "code",
      "metadata": {
        "id": "2CcIn_D0OJBD"
      },
      "source": [
        "def student_info(*stud,city,college):\n",
        "  print(\"student:\",stud)\n",
        "  print(\"city:\",city)\n",
        "  print(\"college:\",college)\n",
        "\n"
      ],
      "execution_count": null,
      "outputs": []
    },
    {
      "cell_type": "code",
      "metadata": {
        "colab": {
          "base_uri": "https://localhost:8080/",
          "height": 163
        },
        "id": "SgVSBWAsPQOS",
        "outputId": "ec74ac05-b381-44b4-932f-bd8c120d4366"
      },
      "source": [
        "student_info(\"raj\",\"nza\",\"ssr\")"
      ],
      "execution_count": null,
      "outputs": [
        {
          "output_type": "error",
          "ename": "TypeError",
          "evalue": "ignored",
          "traceback": [
            "\u001b[0;31m---------------------------------------------------------------------------\u001b[0m",
            "\u001b[0;31mTypeError\u001b[0m                                 Traceback (most recent call last)",
            "\u001b[0;32m<ipython-input-14-786b7d36efcc>\u001b[0m in \u001b[0;36m<module>\u001b[0;34m()\u001b[0m\n\u001b[0;32m----> 1\u001b[0;31m \u001b[0mstudent_info\u001b[0m\u001b[0;34m(\u001b[0m\u001b[0;34m\"raj\"\u001b[0m\u001b[0;34m,\u001b[0m\u001b[0;34m\"nza\"\u001b[0m\u001b[0;34m,\u001b[0m\u001b[0;34m\"ssr\"\u001b[0m\u001b[0;34m)\u001b[0m\u001b[0;34m\u001b[0m\u001b[0;34m\u001b[0m\u001b[0m\n\u001b[0m",
            "\u001b[0;31mTypeError\u001b[0m: student_info() missing 2 required keyword-only arguments: 'city' and 'college'"
          ]
        }
      ]
    },
    {
      "cell_type": "code",
      "metadata": {
        "colab": {
          "base_uri": "https://localhost:8080/",
          "height": 129
        },
        "id": "SgCf2jh3PU5W",
        "outputId": "aa3d9947-f026-490f-ce0e-6d7cb959d618"
      },
      "source": [
        "student_info(\"raj\",city=\"nza\",\"ssr\")"
      ],
      "execution_count": null,
      "outputs": [
        {
          "output_type": "error",
          "ename": "SyntaxError",
          "evalue": "ignored",
          "traceback": [
            "\u001b[0;36m  File \u001b[0;32m\"<ipython-input-15-4925cd2cd1dd>\"\u001b[0;36m, line \u001b[0;32m1\u001b[0m\n\u001b[0;31m    student_info(\"raj\",city=\"nza\",\"ssr\")\u001b[0m\n\u001b[0m                                 ^\u001b[0m\n\u001b[0;31mSyntaxError\u001b[0m\u001b[0;31m:\u001b[0m positional argument follows keyword argument\n"
          ]
        }
      ]
    },
    {
      "cell_type": "code",
      "metadata": {
        "colab": {
          "base_uri": "https://localhost:8080/"
        },
        "id": "E8MH97TBPZ1U",
        "outputId": "964a56c2-8721-432e-e6ec-7fbd58f24ab1"
      },
      "source": [
        "student_info(\"raj\",city=\"nza\",college=\"ssr\")"
      ],
      "execution_count": null,
      "outputs": [
        {
          "output_type": "stream",
          "text": [
            "student: ('raj',)\n",
            "city: nza\n",
            "college: ssr\n"
          ],
          "name": "stdout"
        }
      ]
    },
    {
      "cell_type": "code",
      "metadata": {
        "id": "dQH1dRILPhPm"
      },
      "source": [
        "def student_info2(college,city=\"nzb\",*students):\n",
        "  print(\"student:\",students)\n",
        "  print(\"city:\",city)\n",
        "  print(\"college:\",college)\n"
      ],
      "execution_count": null,
      "outputs": []
    },
    {
      "cell_type": "code",
      "metadata": {
        "colab": {
          "base_uri": "https://localhost:8080/"
        },
        "id": "_ByOBF0rP6mt",
        "outputId": "ec3181fa-9165-4bb6-aa59-4f8042d9b386"
      },
      "source": [
        "student_info2(\"ssr\",\"raj\",\"caga\")"
      ],
      "execution_count": null,
      "outputs": [
        {
          "output_type": "stream",
          "text": [
            "student: ('caga',)\n",
            "city: raj\n",
            "college: ssr\n"
          ],
          "name": "stdout"
        }
      ]
    },
    {
      "cell_type": "code",
      "metadata": {
        "colab": {
          "base_uri": "https://localhost:8080/"
        },
        "id": "KloBkKDZQG5l",
        "outputId": "16fbf9d5-b622-4dfd-fac0-fa5f72cb9fb9"
      },
      "source": [
        "student_info2(\"ssr\",\"nzb\",*[\"raj\",\"caga\"])"
      ],
      "execution_count": null,
      "outputs": [
        {
          "output_type": "stream",
          "text": [
            "student: ('raj', 'caga')\n",
            "city: nzb\n",
            "college: ssr\n"
          ],
          "name": "stdout"
        }
      ]
    },
    {
      "cell_type": "code",
      "metadata": {
        "id": "C-LtsVH1QQhI"
      },
      "source": [
        "def keyvalue_fun(**kwargs):\n",
        "  print(kwargs)\n",
        "  "
      ],
      "execution_count": null,
      "outputs": []
    },
    {
      "cell_type": "code",
      "metadata": {
        "colab": {
          "base_uri": "https://localhost:8080/"
        },
        "id": "wXXMkqB2R1oY",
        "outputId": "a8ba3100-38cb-4413-ceb0-bba3dc6728f3"
      },
      "source": [
        "keyvalue_fun(test=\"123\")"
      ],
      "execution_count": null,
      "outputs": [
        {
          "output_type": "stream",
          "text": [
            "{'test': '123'}\n"
          ],
          "name": "stdout"
        }
      ]
    },
    {
      "cell_type": "code",
      "metadata": {
        "id": "Qo38OUG5R6Tg"
      },
      "source": [
        "def dis_keyvalue(**kwargs):\n",
        "  if 'name' in kwargs:\n",
        "    print('name:',kwargs['name'])\n",
        "  "
      ],
      "execution_count": null,
      "outputs": []
    },
    {
      "cell_type": "code",
      "metadata": {
        "id": "UEipWPvit6Pb"
      },
      "source": [
        "city=\"Seattle\"\n"
      ],
      "execution_count": 1,
      "outputs": []
    },
    {
      "cell_type": "code",
      "metadata": {
        "colab": {
          "base_uri": "https://localhost:8080/",
          "height": 316
        },
        "id": "TAAvofTsuRDr",
        "outputId": "377f1d97-3507-4876-bbf9-885d6760a927"
      },
      "source": [
        "def some_fn():\n",
        "  city = city + \"Append\"\n",
        "  print(city)\n",
        "\n",
        "some_fn()"
      ],
      "execution_count": 7,
      "outputs": [
        {
          "output_type": "error",
          "ename": "UnboundLocalError",
          "evalue": "ignored",
          "traceback": [
            "\u001b[0;31m---------------------------------------------------------------------------\u001b[0m",
            "\u001b[0;31mUnboundLocalError\u001b[0m                         Traceback (most recent call last)",
            "\u001b[0;32m<ipython-input-7-6640e0bfb95e>\u001b[0m in \u001b[0;36m<module>\u001b[0;34m()\u001b[0m\n\u001b[1;32m      3\u001b[0m   \u001b[0mprint\u001b[0m\u001b[0;34m(\u001b[0m\u001b[0mcity\u001b[0m\u001b[0;34m)\u001b[0m\u001b[0;34m\u001b[0m\u001b[0;34m\u001b[0m\u001b[0m\n\u001b[1;32m      4\u001b[0m \u001b[0;34m\u001b[0m\u001b[0m\n\u001b[0;32m----> 5\u001b[0;31m \u001b[0msome_fn\u001b[0m\u001b[0;34m(\u001b[0m\u001b[0;34m)\u001b[0m\u001b[0;34m\u001b[0m\u001b[0;34m\u001b[0m\u001b[0m\n\u001b[0m",
            "\u001b[0;32m<ipython-input-7-6640e0bfb95e>\u001b[0m in \u001b[0;36msome_fn\u001b[0;34m()\u001b[0m\n\u001b[1;32m      1\u001b[0m \u001b[0;32mdef\u001b[0m \u001b[0msome_fn\u001b[0m\u001b[0;34m(\u001b[0m\u001b[0;34m)\u001b[0m\u001b[0;34m:\u001b[0m\u001b[0;34m\u001b[0m\u001b[0;34m\u001b[0m\u001b[0m\n\u001b[0;32m----> 2\u001b[0;31m   \u001b[0mcity\u001b[0m \u001b[0;34m=\u001b[0m \u001b[0mcity\u001b[0m \u001b[0;34m+\u001b[0m \u001b[0;34m\"Append\"\u001b[0m\u001b[0;34m\u001b[0m\u001b[0;34m\u001b[0m\u001b[0m\n\u001b[0m\u001b[1;32m      3\u001b[0m   \u001b[0mprint\u001b[0m\u001b[0;34m(\u001b[0m\u001b[0mcity\u001b[0m\u001b[0;34m)\u001b[0m\u001b[0;34m\u001b[0m\u001b[0;34m\u001b[0m\u001b[0m\n\u001b[1;32m      4\u001b[0m \u001b[0;34m\u001b[0m\u001b[0m\n\u001b[1;32m      5\u001b[0m \u001b[0msome_fn\u001b[0m\u001b[0;34m(\u001b[0m\u001b[0;34m)\u001b[0m\u001b[0;34m\u001b[0m\u001b[0;34m\u001b[0m\u001b[0m\n",
            "\u001b[0;31mUnboundLocalError\u001b[0m: local variable 'city' referenced before assignment"
          ]
        }
      ]
    },
    {
      "cell_type": "markdown",
      "metadata": {
        "id": "l-e3mIG2umhl"
      },
      "source": [
        ""
      ]
    },
    {
      "cell_type": "code",
      "metadata": {
        "colab": {
          "base_uri": "https://localhost:8080/"
        },
        "id": "QlCd4uAbuYoc",
        "outputId": "7ea5b049-fd95-4634-8add-94c24e7e77e3"
      },
      "source": [
        "def some_fn():\n",
        "  global city\n",
        "  city = city + \"Append\"\n",
        "  print(city)\n",
        "\n",
        "some_fn()"
      ],
      "execution_count": 9,
      "outputs": [
        {
          "output_type": "stream",
          "text": [
            "SeattleAppend\n"
          ],
          "name": "stdout"
        }
      ]
    },
    {
      "cell_type": "code",
      "metadata": {
        "id": "eLiwIENBu7Gf"
      },
      "source": [
        "fruits_list = [\"Apple\",\"mango\",\"Grapes\"]\n"
      ],
      "execution_count": 22,
      "outputs": []
    },
    {
      "cell_type": "code",
      "metadata": {
        "colab": {
          "base_uri": "https://localhost:8080/"
        },
        "id": "6-wwv-ugw0PI",
        "outputId": "2780425c-e16b-4478-a20b-d5eafae07560"
      },
      "source": [
        "def change_list(fruits_list):\n",
        "  fruits_list=[\"Kiwi\"]\n",
        "  print(\"insided the function:\",fruits_list)\n",
        "\n",
        "change_list(fruits_list)\n",
        "print(\"outside the function:\",fruits_list)"
      ],
      "execution_count": 12,
      "outputs": [
        {
          "output_type": "stream",
          "text": [
            "insided the function: ['Kiwi']\n",
            "outside the function: ['Apple', 'mango', 'Grapes']\n"
          ],
          "name": "stdout"
        }
      ]
    },
    {
      "cell_type": "code",
      "metadata": {
        "colab": {
          "base_uri": "https://localhost:8080/"
        },
        "id": "ThywFrNxxOhc",
        "outputId": "d74dfcdd-e7e1-418e-b9e9-45c53b26f14a"
      },
      "source": [
        "def change_list2(fruits_list):\n",
        "  fruits_list[0]=\"Kiwi\"\n",
        "  fruits_list.append(\"banana\")\n",
        "  fruits_list.sort()\n",
        "  fruits_list.pop()\n",
        "  print(\"insided the function:\",fruits_list)\n",
        "print(\"before call:\",fruits_list)\n",
        "change_list2(fruits_list)\n",
        "print(\"outside the function:\",fruits_list)"
      ],
      "execution_count": 23,
      "outputs": [
        {
          "output_type": "stream",
          "text": [
            "before call: ['Apple', 'mango', 'Grapes']\n",
            "insided the function: ['Grapes', 'Kiwi', 'banana']\n",
            "outside the function: ['Grapes', 'Kiwi', 'banana']\n"
          ],
          "name": "stdout"
        }
      ]
    },
    {
      "cell_type": "code",
      "metadata": {
        "colab": {
          "base_uri": "https://localhost:8080/"
        },
        "id": "n6xHAezpxaoR",
        "outputId": "c2200ae4-a0fd-4a78-fb12-e55e4ae3e476"
      },
      "source": [
        "help('modules')"
      ],
      "execution_count": 25,
      "outputs": [
        {
          "output_type": "stream",
          "text": [
            "\n",
            "Please wait a moment while I gather a list of all available modules...\n",
            "\n"
          ],
          "name": "stdout"
        },
        {
          "output_type": "stream",
          "text": [
            "/usr/local/lib/python3.6/dist-packages/IPython/kernel/__init__.py:13: ShimWarning: The `IPython.kernel` package has been deprecated since IPython 4.0.You should import from ipykernel or jupyter_client instead.\n",
            "  \"You should import from ipykernel or jupyter_client instead.\", ShimWarning)\n",
            "/usr/local/lib/python3.6/dist-packages/datascience/tables.py:17: MatplotlibDeprecationWarning:\n",
            "\n",
            "The 'warn' parameter of use() is deprecated since Matplotlib 3.1 and will be removed in 3.3.  If any parameter follows 'warn', they should be pass as keyword, not positionally.\n",
            "\n",
            "/usr/local/lib/python3.6/dist-packages/datascience/util.py:10: MatplotlibDeprecationWarning:\n",
            "\n",
            "The 'warn' parameter of use() is deprecated since Matplotlib 3.1 and will be removed in 3.3.  If any parameter follows 'warn', they should be pass as keyword, not positionally.\n",
            "\n",
            "/usr/local/lib/python3.6/dist-packages/psycopg2/__init__.py:144: UserWarning:\n",
            "\n",
            "The psycopg2 wheel package will be renamed from release 2.8; in order to keep installing from binary please use \"pip install psycopg2-binary\" instead. For details see: <http://initd.org/psycopg/docs/install.html#binary-install-from-pypi>.\n",
            "\n",
            "/usr/local/lib/python3.6/dist-packages/sklearn/externals/six.py:31: FutureWarning:\n",
            "\n",
            "The module is deprecated in version 0.21 and will be removed in version 0.23 since we've dropped support for Python 2.7. Please rely on the official version of six (https://pypi.org/project/six/).\n",
            "\n",
            "/usr/local/lib/python3.6/dist-packages/sklearn/utils/deprecation.py:144: FutureWarning:\n",
            "\n",
            "The sklearn.neighbors.base module is  deprecated in version 0.22 and will be removed in version 0.24. The corresponding classes / functions should instead be imported from sklearn.neighbors. Anything that cannot be imported from sklearn.neighbors is now part of the private API.\n",
            "\n",
            "/usr/local/lib/python3.6/dist-packages/sklearn/utils/deprecation.py:144: FutureWarning:\n",
            "\n",
            "The sklearn.datasets.base module is  deprecated in version 0.22 and will be removed in version 0.24. The corresponding classes / functions should instead be imported from sklearn.datasets. Anything that cannot be imported from sklearn.datasets is now part of the private API.\n",
            "\n",
            "/usr/local/lib/python3.6/dist-packages/sklearn/utils/deprecation.py:144: FutureWarning:\n",
            "\n",
            "The sklearn.ensemble.bagging module is  deprecated in version 0.22 and will be removed in version 0.24. The corresponding classes / functions should instead be imported from sklearn.ensemble. Anything that cannot be imported from sklearn.ensemble is now part of the private API.\n",
            "\n",
            "/usr/local/lib/python3.6/dist-packages/sklearn/utils/deprecation.py:144: FutureWarning:\n",
            "\n",
            "The sklearn.ensemble.base module is  deprecated in version 0.22 and will be removed in version 0.24. The corresponding classes / functions should instead be imported from sklearn.ensemble. Anything that cannot be imported from sklearn.ensemble is now part of the private API.\n",
            "\n",
            "/usr/local/lib/python3.6/dist-packages/sklearn/utils/deprecation.py:144: FutureWarning:\n",
            "\n",
            "The sklearn.ensemble.forest module is  deprecated in version 0.22 and will be removed in version 0.24. The corresponding classes / functions should instead be imported from sklearn.ensemble. Anything that cannot be imported from sklearn.ensemble is now part of the private API.\n",
            "\n",
            "/usr/local/lib/python3.6/dist-packages/sklearn/externals/joblib/__init__.py:15: FutureWarning:\n",
            "\n",
            "sklearn.externals.joblib is deprecated in 0.21 and will be removed in 0.23. Please import this functionality directly from joblib, which can be installed with: pip install joblib. If this warning is raised when loading pickled models, you may need to re-serialize those models with scikit-learn 0.21+.\n",
            "\n",
            "/usr/local/lib/python3.6/dist-packages/sklearn/utils/deprecation.py:144: FutureWarning:\n",
            "\n",
            "The sklearn.utils.testing module is  deprecated in version 0.22 and will be removed in version 0.24. The corresponding classes / functions should instead be imported from sklearn.utils. Anything that cannot be imported from sklearn.utils is now part of the private API.\n",
            "\n",
            "/usr/local/lib/python3.6/dist-packages/sklearn/utils/deprecation.py:144: FutureWarning:\n",
            "\n",
            "The sklearn.metrics.classification module is  deprecated in version 0.22 and will be removed in version 0.24. The corresponding classes / functions should instead be imported from sklearn.metrics. Anything that cannot be imported from sklearn.metrics is now part of the private API.\n",
            "\n"
          ],
          "name": "stderr"
        },
        {
          "output_type": "stream",
          "text": [
            "Downloading http://dlib.net/files/shape_predictor_68_face_landmarks.dat.bz2 to /root/mlxtend_data/shape_predictor_68_face_landmarks.dat.bz2\n"
          ],
          "name": "stdout"
        },
        {
          "output_type": "stream",
          "text": [
            "/usr/lib/python3.6/pkgutil.py:92: UserWarning:\n",
            "\n",
            "The DICOM readers are highly experimental, unstable, and only work for Siemens time-series at the moment\n",
            "Please use with caution.  We would be grateful for your help in improving them\n",
            "\n",
            "/usr/local/lib/python3.6/dist-packages/nltk/twitter/__init__.py:20: UserWarning:\n",
            "\n",
            "The twython library has not been installed. Some functionality from the twitter package will not be available.\n",
            "\n",
            "Exception ignored in: <_io.FileIO name='/usr/local/lib/python3.6/dist-packages/theano/gof/c_code/lazylinker_c.c' mode='rb' closefd=True>\n",
            "ResourceWarning: unclosed file <_io.TextIOWrapper name='/usr/local/lib/python3.6/dist-packages/theano/gof/c_code/lazylinker_c.c' mode='r' encoding='UTF-8'>\n",
            "WARNING:pystan:This submodule contains experimental code, please use with caution\n"
          ],
          "name": "stderr"
        },
        {
          "output_type": "stream",
          "text": [
            "Cython              concurrent          knnimpute           reprlib\n",
            "IPython             configparser        korean_lunar_calendar requests\n",
            "OpenGL              contextlib          lib2to3             requests_oauthlib\n",
            "PIL                 contextlib2         libfuturize         resampy\n",
            "ScreenResolution    convertdate         libpasteurize       resource\n",
            "__future__          copy                librosa             retrying\n",
            "_ast                copyreg             lightgbm            rlcompleter\n",
            "_asyncio            coverage            linecache           rmagic\n",
            "_bisect             coveralls           llvmlite            rpy2\n",
            "_blake2             crcmod              lmdb                rsa\n",
            "_bootlocale         crypt               locale              runpy\n",
            "_bz2                csv                 logging             samples\n",
            "_cffi_backend       ctypes              lsb_release         sched\n",
            "_codecs             cufflinks           lucid               scipy\n",
            "_codecs_cn          curses              lunarcalendar       scs\n",
            "_codecs_hk          cv2                 lxml                seaborn\n",
            "_codecs_iso2022     cvxopt              lzma                secrets\n",
            "_codecs_jp          cvxpy               macpath             select\n",
            "_codecs_kr          cycler              macurl2path         selectors\n",
            "_codecs_tw          cymem               mailbox             send2trash\n",
            "_collections        cython              mailcap             setuptools\n",
            "_collections_abc    cythonmagic         markdown            setuptools_git\n",
            "_compat_pickle      daft                markupsafe          shapely\n",
            "_compression        dask                marshal             shelve\n",
            "_crypt              dataclasses         math                shlex\n",
            "_csv                datascience         matplotlib          shutil\n",
            "_ctypes             datetime            matplotlib_venn     signal\n",
            "_ctypes_test        dateutil            mimetypes           simplegeneric\n",
            "_curses             dbm                 missingno           site\n",
            "_curses_panel       dbus                mistune             sitecustomize\n",
            "_cvxcore            debugpy             mizani              six\n",
            "_datetime           decimal             mlxtend             skimage\n",
            "_dbm                decorator           mmap                sklearn\n",
            "_dbus_bindings      defusedxml          modulefinder        sklearn_pandas\n",
            "_dbus_glib_bindings descartes           more_itertools      slugify\n",
            "_decimal            difflib             moviepy             smart_open\n",
            "_distutils_hack     dill                mpmath              smtpd\n",
            "_dummy_thread       dis                 msgpack             smtplib\n",
            "_ecos               distributed         multiprocess        sndhdr\n",
            "_elementtree        distutils           multiprocessing     snowballstemmer\n",
            "_foo                django              multitasking        socket\n",
            "_functools          dlib                murmurhash          socketserver\n",
            "_hashlib            docopt              music21             socks\n",
            "_heapq              docs                natsort             sockshandler\n",
            "_imp                doctest             nbclient            softwareproperties\n",
            "_io                 docutils            nbconvert           sortedcontainers\n",
            "_json               dopamine            nbformat            spacy\n",
            "_locale             dot_parser          nest_asyncio        sphinx\n",
            "_lsprof             dummy_threading     netrc               spwd\n",
            "_lzma               easy_install        networkx            sql\n",
            "_markupbase         easydict            nibabel             sqlalchemy\n",
            "_md5                ecos                nis                 sqlite3\n",
            "_multibytecodec     editdistance        nisext              sqlparse\n",
            "_multiprocess       ee                  nltk                sre_compile\n",
            "_multiprocessing    email               nntplib             sre_constants\n",
            "_opcode             en_core_web_sm      notebook            sre_parse\n",
            "_operator           encodings           np_utils            srsly\n",
            "_osx_support        entrypoints         ntpath              ssl\n",
            "_pickle             enum                nturl2path          stat\n",
            "_plotly_future_     ephem               numba               statistics\n",
            "_plotly_utils       errno               numbergen           statsmodels\n",
            "_posixsubprocess    et_xmlfile          numbers             storemagic\n",
            "_pydecimal          examples            numexpr             string\n",
            "_pyio               fa2                 numpy               stringprep\n",
            "_pyrsistent_version fancyimpute         nvidia_smi          struct\n",
            "_pytest             fastai              oauth2client        subprocess\n",
            "_random             fastdtw             oauthlib            sunau\n",
            "_rinterface_cffi_abi fastprogress        ogr                 symbol\n",
            "_rinterface_cffi_api fastrlock           okgrade             sympy\n",
            "_scs_direct         faulthandler        onnx_chainer        sympyprinting\n",
            "_scs_indirect       fbprophet           opcode              symtable\n",
            "_scs_python         fcntl               openpyxl            sys\n",
            "_sha1               feather             operator            sysconfig\n",
            "_sha256             filecmp             opt_einsum          syslog\n",
            "_sha3               fileinput           optparse            tables\n",
            "_sha512             filelock            os                  tabnanny\n",
            "_signal             firebase_admin      osgeo               tabulate\n",
            "_sitebuiltins       fix_yahoo_finance   osqp                tarfile\n",
            "_socket             flask               osqppurepy          tblib\n",
            "_sqlite3            flatbuffers         osr                 telnetlib\n",
            "_sre                fnmatch             ossaudiodev         tempfile\n",
            "_ssl                folium              packaging           tensorboard\n",
            "_stat               formatter           palettable          tensorboard_plugin_wit\n",
            "_string             fractions           pandas              tensorboardcolab\n",
            "_strptime           ftplib              pandas_datareader   tensorflow\n",
            "_struct             functools           pandas_gbq          tensorflow_addons\n",
            "_symtable           future              pandas_profiling    tensorflow_datasets\n",
            "_sysconfigdata_m_linux_x86_64-linux-gnu gast                pandocfilters       tensorflow_estimator\n",
            "_testbuffer         gc                  panel               tensorflow_gcs_config\n",
            "_testcapi           gdal                param               tensorflow_hub\n",
            "_testimportmultiple gdalconst           parser              tensorflow_metadata\n",
            "_testmultiphase     gdalnumeric         parso               tensorflow_privacy\n",
            "_thread             gdown               past                tensorflow_probability\n",
            "_threading_local    genericpath         pasta               termcolor\n",
            "_tkinter            gensim              pathlib             terminado\n",
            "_tracemalloc        geographiclib       patsy               termios\n",
            "_warnings           geopy               pdb                 test\n",
            "_weakref            getopt              pexpect             testpath\n",
            "_weakrefset         getpass             pickle              tests\n",
            "abc                 gettext             pickleshare         text_unidecode\n",
            "absl                gi                  pickletools         textblob\n",
            "aifc                gin                 pip                 textgenrnn\n",
            "alabaster           github2pypi         pipes               textwrap\n",
            "albumentations      glob                piptools            theano\n",
            "altair              glob2               pkg_resources       thinc\n",
            "antigravity         gnm                 pkgutil             this\n",
            "apiclient           google_auth_httplib2 plac                threading\n",
            "apt                 google_auth_oauthlib plac_core           tifffile\n",
            "apt_inst            google_drive_downloader plac_ext            time\n",
            "apt_pkg             googleapiclient     plac_tk             timeit\n",
            "aptsources          googlesearch        platform            tkinter\n",
            "argon2              graphviz            plistlib            tlz\n",
            "argparse            gridfs              plotly              token\n",
            "array               grp                 plotlywidget        tokenize\n",
            "asgiref             grpc                plotnine            toml\n",
            "ast                 gspread             pluggy              toolz\n",
            "astor               gspread_dataframe   poplib              torch\n",
            "astropy             gym                 portpicker          torchsummary\n",
            "astunparse          gzip                posix               torchtext\n",
            "async_generator     h5py                posixpath           torchvision\n",
            "asynchat            hashlib             pprint              tornado\n",
            "asyncio             heapdict            prefetch_generator  tqdm\n",
            "asyncore            heapq               preshed             trace\n",
            "atari_py            hmac                prettytable         traceback\n",
            "atexit              holidays            profile             tracemalloc\n",
            "atomicwrites        holoviews           progressbar         traitlets\n",
            "attr                html                prometheus_client   tree\n",
            "audioop             html5lib            promise             tty\n",
            "audioread           http                prompt_toolkit      turtle\n",
            "autograd            httpimport          pstats              tweepy\n",
            "autoreload          httplib2            psutil              typeguard\n",
            "babel               httplib2shim        psycopg2            types\n",
            "backcall            humanize            pty                 typing\n",
            "base64              hyperopt            ptyprocess          typing_extensions\n",
            "bdb                 ideep4py            pvectorc            tzlocal\n",
            "bin                 idna                pwd                 umap\n",
            "binascii            image               py                  unicodedata\n",
            "binhex              imageio             py_compile          unittest\n",
            "bisect              imagesize           pyarrow             uritemplate\n",
            "bleach              imaplib             pyasn1              urllib\n",
            "blis                imblearn            pyasn1_modules      urllib3\n",
            "bokeh               imgaug              pyclbr              uu\n",
            "boost               imghdr              pycocotools         uuid\n",
            "bottleneck          imp                 pycparser           vega_datasets\n",
            "branca              importlib           pyct                venv\n",
            "bs4                 importlib_metadata  pydata_google_auth  vis\n",
            "bson                importlib_resources pydoc               warnings\n",
            "builtins            imutils             pydoc_data          wasabi\n",
            "bz2                 inflect             pydot               wave\n",
            "cProfile            iniconfig           pydot_ng            wcwidth\n",
            "cachecontrol        inspect             pydotplus           weakref\n",
            "cachetools          intervaltree        pydrive             webbrowser\n",
            "caffe2              io                  pyemd               webencodings\n",
            "calendar            ipaddress           pyexpat             werkzeug\n",
            "catalogue           ipykernel           pyglet              wheel\n",
            "certifi             ipykernel_launcher  pygments            widgetsnbextension\n",
            "cffi                ipython_genutils    pygtkcompat         wordcloud\n",
            "cgi                 ipywidgets          pylab               wrapt\n",
            "cgitb               itertools           pymc3               wsgiref\n",
            "chainer             itsdangerous        pymeeus             xarray\n",
            "chainermn           jax                 pymongo             xdrlib\n",
            "chainerx            jaxlib              pymystem3           xgboost\n",
            "chardet             jdcal               pynvml              xkit\n",
            "chess               jedi                pyparsing           xlrd\n",
            "chunk               jieba               pyrsistent          xlwt\n",
            "click               jinja2              pysndfile           xml\n",
            "client              joblib              pystan              xmlrpc\n",
            "cloudpickle         jpeg4py             pytest              xxlimited\n",
            "cmake               json                python_utils        xxsubtype\n",
            "cmath               jsonschema          pytz                yaml\n",
            "cmd                 jupyter             pyviz_comms         yellowbrick\n",
            "cmdstanpy           jupyter_client      pywt                zict\n",
            "code                jupyter_console     pyximport           zipapp\n",
            "codecs              jupyter_core        qtconsole           zipfile\n",
            "codeop              jupyterlab_pygments qtpy                zipimport\n",
            "colab               kaggle              queue               zipp\n",
            "collections         kapre               quopri              zlib\n",
            "colorlover          keras               random              zmq\n",
            "colorsys            keras_preprocessing re                  \n",
            "community           keyword             readline            \n",
            "compileall          kiwisolver          regex               \n",
            "\n",
            "Enter any module name to get more help.  Or, type \"modules spam\" to search\n",
            "for modules whose name or summary contain the string \"spam\".\n",
            "\n"
          ],
          "name": "stdout"
        }
      ]
    },
    {
      "cell_type": "code",
      "metadata": {
        "id": "IYqvHHA4zCba"
      },
      "source": [
        "import os"
      ],
      "execution_count": 26,
      "outputs": []
    },
    {
      "cell_type": "code",
      "metadata": {
        "colab": {
          "base_uri": "https://localhost:8080/",
          "height": 35
        },
        "id": "AIjgi12vz5sC",
        "outputId": "75392159-fdd7-4366-8900-34c5f9737fa9"
      },
      "source": [
        "os.getcwd()"
      ],
      "execution_count": 27,
      "outputs": [
        {
          "output_type": "execute_result",
          "data": {
            "application/vnd.google.colaboratory.intrinsic+json": {
              "type": "string"
            },
            "text/plain": [
              "'/content'"
            ]
          },
          "metadata": {
            "tags": []
          },
          "execution_count": 27
        }
      ]
    },
    {
      "cell_type": "code",
      "metadata": {
        "colab": {
          "base_uri": "https://localhost:8080/"
        },
        "id": "Bvn6_ZRVz7Le",
        "outputId": "e0cd05d3-6af1-41ab-c935-95be1a29332a"
      },
      "source": [
        "os.environ"
      ],
      "execution_count": 28,
      "outputs": [
        {
          "output_type": "execute_result",
          "data": {
            "text/plain": [
              "environ({'NO_GCE_CHECK': 'True', 'GCS_READ_CACHE_BLOCK_SIZE_MB': '16', 'CLOUDSDK_CONFIG': '/content/.config', 'CUDA_VERSION': '10.1.243', 'PATH': '/usr/local/nvidia/bin:/usr/local/cuda/bin:/usr/local/sbin:/usr/local/bin:/usr/sbin:/usr/bin:/sbin:/bin:/tools/node/bin:/tools/google-cloud-sdk/bin:/opt/bin', 'HOME': '/root', 'LD_LIBRARY_PATH': '/usr/local/nvidia/lib:/usr/local/nvidia/lib64', 'LANG': 'en_US.UTF-8', 'SHELL': '/bin/bash', 'LIBRARY_PATH': '/usr/local/cuda/lib64/stubs', 'CUDA_PKG_VERSION': '10-1=10.1.243-1', 'SHLVL': '0', 'GCE_METADATA_TIMEOUT': '0', 'NCCL_VERSION': '2.7.8', 'NVIDIA_VISIBLE_DEVICES': 'all', 'DEBIAN_FRONTEND': 'noninteractive', 'CUDNN_VERSION': '7.6.5.32', 'LAST_FORCED_REBUILD': '20201202', 'JPY_PARENT_PID': '49', 'PYTHONPATH': '/env/python', 'DATALAB_SETTINGS_OVERRIDES': '{\"kernelManagerProxyPort\":6000,\"kernelManagerProxyHost\":\"172.28.0.3\",\"jupyterArgs\":[\"--ip=\\\\\"172.28.0.2\\\\\"\"]}', 'ENV': '/root/.bashrc', 'GLIBCXX_FORCE_NEW': '1', 'NVIDIA_DRIVER_CAPABILITIES': 'compute,utility', 'TF_FORCE_GPU_ALLOW_GROWTH': 'true', 'LD_PRELOAD': '/usr/lib/x86_64-linux-gnu/libtcmalloc.so.4', 'NVIDIA_REQUIRE_CUDA': 'cuda>=10.1 brand=tesla,driver>=396,driver<397 brand=tesla,driver>=410,driver<411 brand=tesla,driver>=418,driver<419', 'OLDPWD': '/', 'HOSTNAME': '48c4e6b22ef9', 'COLAB_GPU': '0', 'PWD': '/', 'CLOUDSDK_PYTHON': 'python3', 'GLIBCPP_FORCE_NEW': '1', 'PYTHONWARNINGS': 'ignore:::pip._internal.cli.base_command', 'TBE_CREDS_ADDR': '172.28.0.1:8008', 'TERM': 'xterm-color', 'CLICOLOR': '1', 'PAGER': 'cat', 'GIT_PAGER': 'cat', 'MPLBACKEND': 'module://ipykernel.pylab.backend_inline', 'PYDEVD_USE_FRAME_EVAL': 'NO', 'KMP_DUPLICATE_LIB_OK': 'True', 'KMP_INIT_AT_FORK': 'FALSE', 'TF2_BEHAVIOR': '1', 'TF_CPP_MIN_LOG_LEVEL': '1', 'QT_API': 'pyside', 'R_HOME': '/usr/lib/R', 'PYTHON_SESSION_INITIALIZED': 'current_pid=56:sys.executable=/usr/bin/python3', 'PLAT': 'linux-x86_64'})"
            ]
          },
          "metadata": {
            "tags": []
          },
          "execution_count": 28
        }
      ]
    },
    {
      "cell_type": "code",
      "metadata": {
        "colab": {
          "base_uri": "https://localhost:8080/",
          "height": 52
        },
        "id": "R3-1J9-M0A-T",
        "outputId": "a89094ac-9d7a-4739-abce-f9c90ff6c0de"
      },
      "source": [
        "os.environ['PATH']"
      ],
      "execution_count": 30,
      "outputs": [
        {
          "output_type": "execute_result",
          "data": {
            "application/vnd.google.colaboratory.intrinsic+json": {
              "type": "string"
            },
            "text/plain": [
              "'/usr/local/nvidia/bin:/usr/local/cuda/bin:/usr/local/sbin:/usr/local/bin:/usr/sbin:/usr/bin:/sbin:/bin:/tools/node/bin:/tools/google-cloud-sdk/bin:/opt/bin'"
            ]
          },
          "metadata": {
            "tags": []
          },
          "execution_count": 30
        }
      ]
    },
    {
      "cell_type": "code",
      "metadata": {
        "colab": {
          "base_uri": "https://localhost:8080/"
        },
        "id": "XuOL_LFY0Il2",
        "outputId": "d8e1f66e-1e77-4d7e-ae57-0aea10e1bc27"
      },
      "source": [
        "os.listdir(\"sample_data\")"
      ],
      "execution_count": 34,
      "outputs": [
        {
          "output_type": "execute_result",
          "data": {
            "text/plain": [
              "['README.md',\n",
              " 'anscombe.json',\n",
              " 'mnist_test.csv',\n",
              " 'california_housing_test.csv',\n",
              " 'mnist_train_small.csv',\n",
              " 'california_housing_train.csv']"
            ]
          },
          "metadata": {
            "tags": []
          },
          "execution_count": 34
        }
      ]
    },
    {
      "cell_type": "code",
      "metadata": {
        "colab": {
          "base_uri": "https://localhost:8080/"
        },
        "id": "WE1Si9_E0OyV",
        "outputId": "08bb5f38-0601-49c9-8b8a-05451371d3cc"
      },
      "source": [
        "os.path.isdir(os.getcwd())"
      ],
      "execution_count": 35,
      "outputs": [
        {
          "output_type": "execute_result",
          "data": {
            "text/plain": [
              "True"
            ]
          },
          "metadata": {
            "tags": []
          },
          "execution_count": 35
        }
      ]
    },
    {
      "cell_type": "code",
      "metadata": {
        "colab": {
          "base_uri": "https://localhost:8080/"
        },
        "id": "6tb78m4A02EJ",
        "outputId": "a83933bb-3840-40d9-aae0-475bca4649bf"
      },
      "source": [
        " from os import path\n",
        " path.isdir(os.getcwd())"
      ],
      "execution_count": 36,
      "outputs": [
        {
          "output_type": "execute_result",
          "data": {
            "text/plain": [
              "True"
            ]
          },
          "metadata": {
            "tags": []
          },
          "execution_count": 36
        }
      ]
    },
    {
      "cell_type": "code",
      "metadata": {
        "id": "HoWVREUb14Fh"
      },
      "source": [
        "import random"
      ],
      "execution_count": 37,
      "outputs": []
    },
    {
      "cell_type": "code",
      "metadata": {
        "id": "ZUwICXLy19_o"
      },
      "source": [
        " mylist=[\"test\",True,123,12.53]"
      ],
      "execution_count": 38,
      "outputs": []
    },
    {
      "cell_type": "code",
      "metadata": {
        "colab": {
          "base_uri": "https://localhost:8080/"
        },
        "id": "aR4Lk6Zf2HdJ",
        "outputId": "a1293b20-230c-4ef1-cd65-e84382c9dc73"
      },
      "source": [
        "random.randint(1,10)"
      ],
      "execution_count": 41,
      "outputs": [
        {
          "output_type": "execute_result",
          "data": {
            "text/plain": [
              "6"
            ]
          },
          "metadata": {
            "tags": []
          },
          "execution_count": 41
        }
      ]
    },
    {
      "cell_type": "code",
      "metadata": {
        "colab": {
          "base_uri": "https://localhost:8080/"
        },
        "id": "8Bc7FZX42Nxt",
        "outputId": "b4a1d5ef-7b46-45cb-a97b-5a3f975bf352"
      },
      "source": [
        "random.choice(mylist)"
      ],
      "execution_count": 43,
      "outputs": [
        {
          "output_type": "execute_result",
          "data": {
            "text/plain": [
              "True"
            ]
          },
          "metadata": {
            "tags": []
          },
          "execution_count": 43
        }
      ]
    },
    {
      "cell_type": "code",
      "metadata": {
        "id": "7638Spgk2Woj"
      },
      "source": [
        ""
      ],
      "execution_count": null,
      "outputs": []
    }
  ]
}