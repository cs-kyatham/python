{
  "nbformat": 4,
  "nbformat_minor": 0,
  "metadata": {
    "colab": {
      "name": "Tuple.ipynb",
      "provenance": [],
      "authorship_tag": "ABX9TyOrSyFFnIh8wLM/OW4VFWTb",
      "include_colab_link": true
    },
    "kernelspec": {
      "name": "python3",
      "display_name": "Python 3"
    }
  },
  "cells": [
    {
      "cell_type": "markdown",
      "metadata": {
        "id": "view-in-github",
        "colab_type": "text"
      },
      "source": [
        "<a href=\"https://colab.research.google.com/github/cs-kyatham/python/blob/master/Tuple.ipynb\" target=\"_parent\"><img src=\"https://colab.research.google.com/assets/colab-badge.svg\" alt=\"Open In Colab\"/></a>"
      ]
    },
    {
      "cell_type": "code",
      "metadata": {
        "colab": {
          "base_uri": "https://localhost:8080/"
        },
        "id": "EnkOfVvQFpei",
        "outputId": "307367ed-876a-4425-c513-68f24b01d317"
      },
      "source": [
        "str_t=()\n",
        "print(str_t)"
      ],
      "execution_count": 1,
      "outputs": [
        {
          "output_type": "stream",
          "text": [
            "()\n"
          ],
          "name": "stdout"
        }
      ]
    },
    {
      "cell_type": "code",
      "metadata": {
        "id": "kweuQvgFFxaE"
      },
      "source": [
        "str_t=('Hello','python')"
      ],
      "execution_count": 2,
      "outputs": []
    },
    {
      "cell_type": "code",
      "metadata": {
        "colab": {
          "base_uri": "https://localhost:8080/"
        },
        "id": "mfz8A8glF-Hv",
        "outputId": "34d626f9-7217-46c2-d7bd-1a746e323350"
      },
      "source": [
        "print(str_t*2)"
      ],
      "execution_count": 3,
      "outputs": [
        {
          "output_type": "stream",
          "text": [
            "('Hello', 'python', 'Hello', 'python')\n"
          ],
          "name": "stdout"
        }
      ]
    },
    {
      "cell_type": "code",
      "metadata": {
        "colab": {
          "base_uri": "https://localhost:8080/"
        },
        "id": "0-hkZU-UGB7R",
        "outputId": "3aa0b684-ee36-4a33-c316-66488e89fefa"
      },
      "source": [
        "my_t=1,\"hell\",32.3\n",
        "print(my_t)"
      ],
      "execution_count": 4,
      "outputs": [
        {
          "output_type": "stream",
          "text": [
            "(1, 'hell', 32.3)\n"
          ],
          "name": "stdout"
        }
      ]
    },
    {
      "cell_type": "code",
      "metadata": {
        "colab": {
          "base_uri": "https://localhost:8080/"
        },
        "id": "cD4B27_dGGSj",
        "outputId": "ba6d1bfc-8bc6-40bd-863e-28c398b19db5"
      },
      "source": [
        "a,b,c=my_t\n",
        "print(a,b,c)"
      ],
      "execution_count": 5,
      "outputs": [
        {
          "output_type": "stream",
          "text": [
            "1 hell 32.3\n"
          ],
          "name": "stdout"
        }
      ]
    },
    {
      "cell_type": "code",
      "metadata": {
        "colab": {
          "base_uri": "https://localhost:8080/"
        },
        "id": "M9q4hwkoGLFR",
        "outputId": "41a5f2fb-5c66-43c6-ab08-0de0e8766782"
      },
      "source": [
        "nested_t=(1,2,3,(4,5))\n",
        "print(nested_t[2])"
      ],
      "execution_count": 8,
      "outputs": [
        {
          "output_type": "stream",
          "text": [
            "3\n"
          ],
          "name": "stdout"
        }
      ]
    },
    {
      "cell_type": "code",
      "metadata": {
        "colab": {
          "base_uri": "https://localhost:8080/"
        },
        "id": "6AinoUQYGT2D",
        "outputId": "e2a47764-7f08-4de6-8697-b086b140cc33"
      },
      "source": [
        "print(nested_t[3])"
      ],
      "execution_count": 10,
      "outputs": [
        {
          "output_type": "stream",
          "text": [
            "(4, 5)\n"
          ],
          "name": "stdout"
        }
      ]
    },
    {
      "cell_type": "code",
      "metadata": {
        "colab": {
          "base_uri": "https://localhost:8080/"
        },
        "id": "WdFxecgVGfVw",
        "outputId": "6fed95b6-dd77-410f-ff35-85ba5f30ec8f"
      },
      "source": [
        "print(nested_t[3][1])"
      ],
      "execution_count": 12,
      "outputs": [
        {
          "output_type": "stream",
          "text": [
            "5\n"
          ],
          "name": "stdout"
        }
      ]
    },
    {
      "cell_type": "code",
      "metadata": {
        "colab": {
          "base_uri": "https://localhost:8080/"
        },
        "id": "ybSmM0UJGnzX",
        "outputId": "081d1d12-876b-4b38-f505-59bb83daacce"
      },
      "source": [
        "my_t[::-1]"
      ],
      "execution_count": 13,
      "outputs": [
        {
          "output_type": "execute_result",
          "data": {
            "text/plain": [
              "(32.3, 'hell', 1)"
            ]
          },
          "metadata": {
            "tags": []
          },
          "execution_count": 13
        }
      ]
    },
    {
      "cell_type": "code",
      "metadata": {
        "colab": {
          "base_uri": "https://localhost:8080/"
        },
        "id": "gxpbfdMSHTng",
        "outputId": "64efa600-bb89-4a6d-9709-dcf8491843fd"
      },
      "source": [
        "my_t[-1::-1]"
      ],
      "execution_count": 14,
      "outputs": [
        {
          "output_type": "execute_result",
          "data": {
            "text/plain": [
              "(32.3, 'hell', 1)"
            ]
          },
          "metadata": {
            "tags": []
          },
          "execution_count": 14
        }
      ]
    },
    {
      "cell_type": "code",
      "metadata": {
        "colab": {
          "base_uri": "https://localhost:8080/"
        },
        "id": "jerjEei2HZB1",
        "outputId": "ae24c747-cfe6-40fa-d421-1bfa817382fe"
      },
      "source": [
        "my_t[-1::1]"
      ],
      "execution_count": 15,
      "outputs": [
        {
          "output_type": "execute_result",
          "data": {
            "text/plain": [
              "(32.3,)"
            ]
          },
          "metadata": {
            "tags": []
          },
          "execution_count": 15
        }
      ]
    },
    {
      "cell_type": "code",
      "metadata": {
        "id": "BS4RAbpcHcrc"
      },
      "source": [
        ""
      ],
      "execution_count": null,
      "outputs": []
    },
    {
      "cell_type": "markdown",
      "metadata": {
        "id": "Y-yrLm91HsbK"
      },
      "source": [
        "Tuples are immutable"
      ]
    },
    {
      "cell_type": "code",
      "metadata": {
        "colab": {
          "base_uri": "https://localhost:8080/",
          "height": 180
        },
        "id": "xQXILiM0Hu2V",
        "outputId": "c0fd9c0a-743b-4227-9b7d-95a34f92f49b"
      },
      "source": [
        "tu=(1,2,4,5)\n",
        "tu[4]=5"
      ],
      "execution_count": 16,
      "outputs": [
        {
          "output_type": "error",
          "ename": "TypeError",
          "evalue": "ignored",
          "traceback": [
            "\u001b[0;31m---------------------------------------------------------------------------\u001b[0m",
            "\u001b[0;31mTypeError\u001b[0m                                 Traceback (most recent call last)",
            "\u001b[0;32m<ipython-input-16-6a61fe58cdef>\u001b[0m in \u001b[0;36m<module>\u001b[0;34m()\u001b[0m\n\u001b[1;32m      1\u001b[0m \u001b[0mtu\u001b[0m\u001b[0;34m=\u001b[0m\u001b[0;34m(\u001b[0m\u001b[0;36m1\u001b[0m\u001b[0;34m,\u001b[0m\u001b[0;36m2\u001b[0m\u001b[0;34m,\u001b[0m\u001b[0;36m4\u001b[0m\u001b[0;34m,\u001b[0m\u001b[0;36m5\u001b[0m\u001b[0;34m)\u001b[0m\u001b[0;34m\u001b[0m\u001b[0;34m\u001b[0m\u001b[0m\n\u001b[0;32m----> 2\u001b[0;31m \u001b[0mtu\u001b[0m\u001b[0;34m[\u001b[0m\u001b[0;36m4\u001b[0m\u001b[0;34m]\u001b[0m\u001b[0;34m=\u001b[0m\u001b[0;36m5\u001b[0m\u001b[0;34m\u001b[0m\u001b[0;34m\u001b[0m\u001b[0m\n\u001b[0m",
            "\u001b[0;31mTypeError\u001b[0m: 'tuple' object does not support item assignment"
          ]
        }
      ]
    },
    {
      "cell_type": "code",
      "metadata": {
        "colab": {
          "base_uri": "https://localhost:8080/"
        },
        "id": "3px6bEuvH13l",
        "outputId": "9e558334-a27a-47c9-b272-abd6ace42df0"
      },
      "source": [
        "tu2=(1,3,4,[6,7])\n",
        "tu2\n"
      ],
      "execution_count": 17,
      "outputs": [
        {
          "output_type": "execute_result",
          "data": {
            "text/plain": [
              "(1, 3, 4, [6, 7])"
            ]
          },
          "metadata": {
            "tags": []
          },
          "execution_count": 17
        }
      ]
    },
    {
      "cell_type": "code",
      "metadata": {
        "id": "LFwBo4uLH-sS"
      },
      "source": [
        "tu2[3][0]=[9]\n"
      ],
      "execution_count": 21,
      "outputs": []
    },
    {
      "cell_type": "code",
      "metadata": {
        "colab": {
          "base_uri": "https://localhost:8080/"
        },
        "id": "-sJVd3-HIEB-",
        "outputId": "e1180ff5-faca-47f4-e853-07ef1adce2bd"
      },
      "source": [
        "tu2"
      ],
      "execution_count": 22,
      "outputs": [
        {
          "output_type": "execute_result",
          "data": {
            "text/plain": [
              "(1, 3, 4, [[9], 7, 9, 5, 3])"
            ]
          },
          "metadata": {
            "tags": []
          },
          "execution_count": 22
        }
      ]
    },
    {
      "cell_type": "code",
      "metadata": {
        "colab": {
          "base_uri": "https://localhost:8080/"
        },
        "id": "KOZuKvjEIfAJ",
        "outputId": "ccf0fbf8-89e5-4582-87b0-3db0e3d59397"
      },
      "source": [
        "tu2[3][1]=1\n",
        "tu2"
      ],
      "execution_count": 23,
      "outputs": [
        {
          "output_type": "execute_result",
          "data": {
            "text/plain": [
              "(1, 3, 4, [[9], 1, 9, 5, 3])"
            ]
          },
          "metadata": {
            "tags": []
          },
          "execution_count": 23
        }
      ]
    },
    {
      "cell_type": "code",
      "metadata": {
        "colab": {
          "base_uri": "https://localhost:8080/",
          "height": 163
        },
        "id": "8r92z700Ir5t",
        "outputId": "c79a03d1-62dd-4c0d-d9f2-dadfe1fbc104"
      },
      "source": [
        "tu2[3]=[4,5]"
      ],
      "execution_count": 24,
      "outputs": [
        {
          "output_type": "error",
          "ename": "TypeError",
          "evalue": "ignored",
          "traceback": [
            "\u001b[0;31m---------------------------------------------------------------------------\u001b[0m",
            "\u001b[0;31mTypeError\u001b[0m                                 Traceback (most recent call last)",
            "\u001b[0;32m<ipython-input-24-bb90c5313719>\u001b[0m in \u001b[0;36m<module>\u001b[0;34m()\u001b[0m\n\u001b[0;32m----> 1\u001b[0;31m \u001b[0mtu2\u001b[0m\u001b[0;34m[\u001b[0m\u001b[0;36m3\u001b[0m\u001b[0;34m]\u001b[0m\u001b[0;34m=\u001b[0m\u001b[0;34m[\u001b[0m\u001b[0;36m4\u001b[0m\u001b[0;34m,\u001b[0m\u001b[0;36m5\u001b[0m\u001b[0;34m]\u001b[0m\u001b[0;34m\u001b[0m\u001b[0;34m\u001b[0m\u001b[0m\n\u001b[0m",
            "\u001b[0;31mTypeError\u001b[0m: 'tuple' object does not support item assignment"
          ]
        }
      ]
    },
    {
      "cell_type": "code",
      "metadata": {
        "colab": {
          "base_uri": "https://localhost:8080/"
        },
        "id": "JIGCbPMaI1Dx",
        "outputId": "0a185d3d-18b6-4d2d-e12e-aa01b41d3212"
      },
      "source": [
        "tu2"
      ],
      "execution_count": 25,
      "outputs": [
        {
          "output_type": "execute_result",
          "data": {
            "text/plain": [
              "(1, 3, 4, [[9], 1, 9, 5, 3])"
            ]
          },
          "metadata": {
            "tags": []
          },
          "execution_count": 25
        }
      ]
    },
    {
      "cell_type": "code",
      "metadata": {
        "colab": {
          "base_uri": "https://localhost:8080/"
        },
        "id": "BUGamCUaI2OZ",
        "outputId": "228bb717-150c-4574-9477-8eafa72b182a"
      },
      "source": [
        "tuple_a=(1,2,3,4)\n",
        "tuple_b=('a','b','c','d')\n",
        "r=zip(tuple_a,tuple_b)\n",
        "print(r)"
      ],
      "execution_count": 26,
      "outputs": [
        {
          "output_type": "stream",
          "text": [
            "<zip object at 0x7fcf772ff408>\n"
          ],
          "name": "stdout"
        }
      ]
    },
    {
      "cell_type": "code",
      "metadata": {
        "colab": {
          "base_uri": "https://localhost:8080/"
        },
        "id": "YaVwULxtJYM7",
        "outputId": "aab38fed-30b9-4cbe-e475-4029e352fc47"
      },
      "source": [
        "res= tuple(r)\n",
        "print(res)"
      ],
      "execution_count": 27,
      "outputs": [
        {
          "output_type": "stream",
          "text": [
            "((1, 'a'), (2, 'b'), (3, 'c'), (4, 'd'))\n"
          ],
          "name": "stdout"
        }
      ]
    },
    {
      "cell_type": "code",
      "metadata": {
        "colab": {
          "base_uri": "https://localhost:8080/"
        },
        "id": "w-3-0bG4JfnQ",
        "outputId": "6fb3d8bd-f9ae-4fcd-a8e5-4079e572858b"
      },
      "source": [
        "res1=list(r)\n",
        "print(res1)"
      ],
      "execution_count": 28,
      "outputs": [
        {
          "output_type": "stream",
          "text": [
            "[]\n"
          ],
          "name": "stdout"
        }
      ]
    },
    {
      "cell_type": "code",
      "metadata": {
        "colab": {
          "base_uri": "https://localhost:8080/"
        },
        "id": "rM9GYWQlJjAb",
        "outputId": "a145ae1e-89e9-46fc-ac9d-111a0fa5839d"
      },
      "source": [
        "q,t=zip(*res)\n",
        "print(q,t)"
      ],
      "execution_count": 29,
      "outputs": [
        {
          "output_type": "stream",
          "text": [
            "(1, 2, 3, 4) ('a', 'b', 'c', 'd')\n"
          ],
          "name": "stdout"
        }
      ]
    },
    {
      "cell_type": "code",
      "metadata": {
        "id": "ZZdZuJAQJxnP"
      },
      "source": [
        "list_a=[3,4,5,6]\n",
        "list_b=['a','b','c','d']\n",
        "x=zip(list_a,list_b)"
      ],
      "execution_count": 30,
      "outputs": []
    },
    {
      "cell_type": "code",
      "metadata": {
        "colab": {
          "base_uri": "https://localhost:8080/"
        },
        "id": "CmqSCNy9KDyh",
        "outputId": "4f53a0dd-e527-4b58-c00d-a2c10f57e3e7"
      },
      "source": [
        "print(list(x))"
      ],
      "execution_count": 31,
      "outputs": [
        {
          "output_type": "stream",
          "text": [
            "[(3, 'a'), (4, 'b'), (5, 'c'), (6, 'd')]\n"
          ],
          "name": "stdout"
        }
      ]
    },
    {
      "cell_type": "code",
      "metadata": {
        "colab": {
          "base_uri": "https://localhost:8080/"
        },
        "id": "Z1OZp4xDKJSy",
        "outputId": "2d09b27c-d2c3-459c-bb71-f091af076a56"
      },
      "source": [
        "print(set(x))"
      ],
      "execution_count": 32,
      "outputs": [
        {
          "output_type": "stream",
          "text": [
            "set()\n"
          ],
          "name": "stdout"
        }
      ]
    },
    {
      "cell_type": "code",
      "metadata": {
        "colab": {
          "base_uri": "https://localhost:8080/"
        },
        "id": "28WFLE2oKLlI",
        "outputId": "e9d598f1-995e-418b-8334-3d3e3767b9f4"
      },
      "source": [
        "list_a=[3,4,5,6]\n",
        "list_b=['a','b','c','d']\n",
        "x=zip(list_a,list_b)\n",
        "print(set(x))"
      ],
      "execution_count": 33,
      "outputs": [
        {
          "output_type": "stream",
          "text": [
            "{(6, 'd'), (5, 'c'), (3, 'a'), (4, 'b')}\n"
          ],
          "name": "stdout"
        }
      ]
    },
    {
      "cell_type": "code",
      "metadata": {
        "colab": {
          "base_uri": "https://localhost:8080/"
        },
        "id": "ihba-rODKi0r",
        "outputId": "e2de66bc-c7c2-4a7b-abe2-f4ab9f6d95ec"
      },
      "source": [
        "print(dict(x))"
      ],
      "execution_count": 34,
      "outputs": [
        {
          "output_type": "stream",
          "text": [
            "{}\n"
          ],
          "name": "stdout"
        }
      ]
    },
    {
      "cell_type": "code",
      "metadata": {
        "id": "F42Zk_QgKlm7"
      },
      "source": [
        ""
      ],
      "execution_count": null,
      "outputs": []
    }
  ]
}